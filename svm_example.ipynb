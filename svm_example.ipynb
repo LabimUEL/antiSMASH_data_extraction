{
 "cells": [
  {
   "cell_type": "code",
   "execution_count": 1,
   "metadata": {},
   "outputs": [],
   "source": [
    "import pandas as pd\n",
    "import numpy as np\n",
    "from sklearn.model_selection import cross_val_score, cross_val_predict, StratifiedKFold, train_test_split\n",
    "from sklearn.metrics import confusion_matrix, roc_auc_score, accuracy_score, f1_score, precision_score\n",
    "from sklearn.preprocessing import StandardScaler, LabelEncoder\n",
    "from sklearn.svm import SVC\n",
    "from sklearn.pipeline import Pipeline"
   ]
  },
  {
   "cell_type": "code",
   "execution_count": 2,
   "metadata": {},
   "outputs": [
    {
     "name": "stdout",
     "output_type": "stream",
     "text": [
      "(229, 87)\n",
      "(229, 243)\n",
      "(229, 1558)\n",
      "(229, 466)\n",
      "(229, 1654)\n"
     ]
    }
   ],
   "source": [
    "datasets = {\n",
    "    'df_cds_motifs': pd.read_csv('data/processed/df_cds_motifs.csv'),\n",
    "    'df_cds_smcog': pd.read_csv('data/processed/df_cds_smcog.csv'),\n",
    "    'df_pfam_desc': pd.read_csv('data/processed/df_pfam_desc.csv'),\n",
    "    'df_pfam_go': pd.read_csv('data/processed/df_pfam_go.csv'),\n",
    "    'df_pfam_id': pd.read_csv('data/processed/df_pfam_id.csv')\n",
    "}\n",
    "\n",
    "for key, df in datasets.items():\n",
    "    print(df.shape)"
   ]
  },
  {
   "cell_type": "code",
   "execution_count": 3,
   "metadata": {},
   "outputs": [
    {
     "data": {
      "text/plain": [
       "0      NZ_CP023748_01\n",
       "1      NZ_CP023748_02\n",
       "2      NZ_CP023748_03\n",
       "3      NZ_CP023748_04\n",
       "4      NZ_CP023748_05\n",
       "            ...      \n",
       "224    NZ_CP040514_07\n",
       "225    NZ_CP040514_08\n",
       "226    NZ_CP040514_09\n",
       "227    NZ_CP040514_10\n",
       "228    NZ_CP040514_11\n",
       "Name: acc, Length: 229, dtype: object"
      ]
     },
     "execution_count": 3,
     "metadata": {},
     "output_type": "execute_result"
    }
   ],
   "source": [
    "merged_df = pd.DataFrame()\n",
    "for key, df in datasets.items():\n",
    "    if merged_df.empty:\n",
    "        merged_df = df\n",
    "    else:\n",
    "        merged_df = merged_df.join(df.set_index(['nome', 'acc', 'label']), on=['nome', 'acc', 'label'])\n",
    "\n",
    "# Reset the index of the merged DataFrame\n",
    "merged_df = merged_df.reset_index(drop=True)\n",
    "\n",
    "merged_df['acc']"
   ]
  },
  {
   "attachments": {},
   "cell_type": "markdown",
   "metadata": {},
   "source": [
    "Antifungi"
   ]
  },
  {
   "cell_type": "code",
   "execution_count": 4,
   "metadata": {},
   "outputs": [
    {
     "name": "stdout",
     "output_type": "stream",
     "text": [
      "label\n",
      "1    142\n",
      "0     87\n",
      "Name: count, dtype: int64\n",
      "ACC: 0.7109 +- 0.1354\n"
     ]
    }
   ],
   "source": [
    "steps = [('scaler', StandardScaler()), ('model', SVC(C = 10, gamma = 0.0001, kernel = 'rbf', probability = True, random_state = 0))]\n",
    "model = Pipeline(steps = steps)\n",
    "\n",
    "merged_df = datasets['df_pfam_id']\n",
    "\n",
    "y = merged_df.pop('label')\n",
    "merged_df.pop('nome')\n",
    "merged_df.pop('acc')\n",
    "X = merged_df\n",
    "\n",
    "scores_acc = cross_val_score(model, X, y, cv = 10, scoring = 'accuracy', n_jobs = -1)\n",
    "\n",
    "print(y.value_counts())\n",
    "print('ACC: {:.4f} +- {:.4f}'.format(scores_acc.mean(), scores_acc.std()))"
   ]
  }
 ],
 "metadata": {
  "kernelspec": {
   "display_name": "py",
   "language": "python",
   "name": "python3"
  },
  "language_info": {
   "codemirror_mode": {
    "name": "ipython",
    "version": 3
   },
   "file_extension": ".py",
   "mimetype": "text/x-python",
   "name": "python",
   "nbconvert_exporter": "python",
   "pygments_lexer": "ipython3",
   "version": "3.11.0"
  },
  "orig_nbformat": 4,
  "vscode": {
   "interpreter": {
    "hash": "17d40333175704b52d6a524f539682f33e98690ae2623699a08441db78a597fe"
   }
  }
 },
 "nbformat": 4,
 "nbformat_minor": 2
}
