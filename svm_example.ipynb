{
 "cells": [
  {
   "cell_type": "code",
   "execution_count": 2,
   "metadata": {},
   "outputs": [],
   "source": [
    "import pandas as pd\n",
    "import numpy as np\n",
    "from sklearn.model_selection import cross_val_score, cross_val_predict, StratifiedKFold, train_test_split\n",
    "from sklearn.metrics import confusion_matrix, roc_auc_score, accuracy_score, f1_score, precision_score\n",
    "from sklearn.preprocessing import StandardScaler, LabelEncoder\n",
    "from sklearn.svm import SVC\n",
    "from sklearn.pipeline import Pipeline"
   ]
  },
  {
   "cell_type": "code",
   "execution_count": 3,
   "metadata": {},
   "outputs": [
    {
     "name": "stdout",
     "output_type": "stream",
     "text": [
      "(266, 87)\n",
      "(266, 243)\n",
      "(266, 1558)\n",
      "(266, 466)\n",
      "(266, 1654)\n"
     ]
    }
   ],
   "source": [
    "datasets = {\n",
    "    'df_cds_motifs': pd.read_csv('data/processed/df_cds_motifs.csv'),\n",
    "    'df_cds_smcog': pd.read_csv('data/processed/df_cds_smcog.csv'),\n",
    "    'df_pfam_desc': pd.read_csv('data/processed/df_pfam_desc.csv'),\n",
    "    'df_pfam_go': pd.read_csv('data/processed/df_pfam_go.csv'),\n",
    "    'df_pfam_id': pd.read_csv('data/processed/df_pfam_id.csv')\n",
    "}\n",
    "\n",
    "for key, df in datasets.items():\n",
    "    print(df.shape)"
   ]
  },
  {
   "attachments": {},
   "cell_type": "markdown",
   "metadata": {},
   "source": [
    "Antifungi"
   ]
  },
  {
   "cell_type": "code",
   "execution_count": 6,
   "metadata": {},
   "outputs": [
    {
     "name": "stdout",
     "output_type": "stream",
     "text": [
      "label\n",
      "0    190\n",
      "1     76\n",
      "Name: count, dtype: int64\n",
      "ACC: 0.7141, AUC: 0.7488\n"
     ]
    }
   ],
   "source": [
    "df_merged = pd.DataFrame()\n",
    "for key, df in datasets.items():\n",
    "    df_merged = pd.concat([df_merged, df], axis=1)\n",
    "\n",
    "# Check for duplicate column names\n",
    "duplicated_columns = df_merged.columns[df_merged.columns.duplicated()]\n",
    "\n",
    "# Drop columns with duplicate names\n",
    "df_merged = df_merged.loc[:, ~df_merged.columns.duplicated()]\n",
    "\n",
    "df_merged = df_merged.reset_index(drop=True)\n",
    "\n",
    "steps = [('scaler', StandardScaler()), ('model', SVC(C = 10, gamma = 0.0001, kernel = 'rbf', probability = True, random_state = 0))]\n",
    "model = Pipeline(steps = steps)\n",
    "\n",
    "# df_merged = datasets['df_pfam_id']\n",
    "\n",
    "y = df_merged.pop('label')\n",
    "df_merged.pop('nome')\n",
    "df_merged.pop('acc')\n",
    "X = df_merged\n",
    "\n",
    "scores_acc = cross_val_score(model, X, y, cv = 10, scoring = 'accuracy', n_jobs = -1)\n",
    "scores_auc = cross_val_score(model, X, y, cv = 10, scoring = 'roc_auc', n_jobs = -1)\n",
    "\n",
    "print(y.value_counts())\n",
    "print('ACC: {:.4f}, AUC: {:.4f}'.format(scores_acc.mean(), scores_auc.mean()))"
   ]
  }
 ],
 "metadata": {
  "kernelspec": {
   "display_name": "py",
   "language": "python",
   "name": "python3"
  },
  "language_info": {
   "codemirror_mode": {
    "name": "ipython",
    "version": 3
   },
   "file_extension": ".py",
   "mimetype": "text/x-python",
   "name": "python",
   "nbconvert_exporter": "python",
   "pygments_lexer": "ipython3",
   "version": "3.11.0"
  },
  "orig_nbformat": 4,
  "vscode": {
   "interpreter": {
    "hash": "17d40333175704b52d6a524f539682f33e98690ae2623699a08441db78a597fe"
   }
  }
 },
 "nbformat": 4,
 "nbformat_minor": 2
}
